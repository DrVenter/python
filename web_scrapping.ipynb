{
 "cells": [
  {
   "cell_type": "code",
   "execution_count": 3,
   "metadata": {},
   "outputs": [],
   "source": [
    "import requests\n",
    "from bs4 import BeautifulSoup\n",
    "\n",
    "import pandas as pd"
   ]
  },
  {
   "cell_type": "code",
   "execution_count": 4,
   "metadata": {},
   "outputs": [],
   "source": [
    "start_page = 1 #search result page start\n",
    "end_page = 1 #search results page end\n",
    "\n",
    "URL_template = \"https://www.property24.com/for-sale/cape-town/western-cape/432/p\"\n",
    "\n",
    "for pg in range(start_page, end_page+1):\n",
    "    URL = URL_template + str(pg)\n",
    "    page = requests.get(URL) #use requests library to get page\n",
    "    soup = BeautifulSoup(page.content, \"html.parser\") #use BeautifulSoup library to get page content\n",
    "\n",
    "\n",
    "    results = soup.find_all(\"div\", {\"itemtype\":\"http://schema.org/Product\"}) #finds all the elements we want notation is (\"html element\", {element attribute: attribute value})\n",
    "\n",
    "    def convert_find_soup_to_text(soup): #finds text if available, removes formats, then returns text\n",
    "        if soup != None: soup = soup.text.replace(\"\\n\",\"\").replace(\"\\r\", \"\").replace(\"\\xa0\", \"\").replace(\"m²\",\"\").strip()\n",
    "\n",
    "        return soup \n",
    "\n",
    "    scraped_data = [[\"ID\", \"Link\", \"Title\", \"Location\", \"Excerpt\", \"Address\", \"Size (Meters Squared)\", \"Price (ZAR)\", \"Bedrooms\", \"Bathrooms\", \"Parking Spaces\", \"Estate Agency\"]] #this will be the header of the table\n",
    "\n",
    "    for element in results:\n",
    "        try:\n",
    "            link = element.find(\"a\")[\"href\"] #finds the attribute value of the html element. notation is list_item.find(\"html elemnt\")[\"element attribute\"]\n",
    "            link = \"https://www.property24.com\" + link\n",
    "        except:\n",
    "            link = None\n",
    "\n",
    "        try: \n",
    "            id = link.split(\"/\")[-1]\n",
    "        except:\n",
    "            id = None\n",
    "\n",
    "        information = [\"p24_title\", \"p24_location\", \"p24_excerpt\", \"p24_address\", \"p24_size\", \"p24_price\"]\n",
    "        for info in range(len(information)):\n",
    "            inf = element.find(\"span\", {\"class\": information[info]})\n",
    "            information[info] = convert_find_soup_to_text(inf)\n",
    "\n",
    "        feature_details = [\"Bedrooms\", \"Bathrooms\", \"Parking Spaces\"]\n",
    "        for detail in range(len(feature_details)):\n",
    "            feature = element.find(\"span\", {\"title\": feature_details[detail]})\n",
    "            feature_details[detail] = convert_find_soup_to_text(feature)\n",
    "        \n",
    "        try:\n",
    "            estate_agency = element.find(\"span\", {\"class\":\"p24_branding\"})[\"title\"]\n",
    "            estate_agency = estate_agency.replace(\"Estate Agency profile for \", \"\")\n",
    "        except:\n",
    "            estate_agency = None\n",
    "\n",
    "        row = [id] + [link] + information + feature_details + [estate_agency]\n",
    "        scraped_data.append(row)\n",
    "\n",
    "    data_base = pd.DataFrame(scraped_data) #converts each page results into a dataframe with pandas\n",
    "    data_base.to_csv(f\"scraped_data_page{pg}.csv\", index=False, header=False) #saves each dataframe into a separate .csv\n"
   ]
  }
 ],
 "metadata": {
  "kernelspec": {
   "display_name": "Python 3.10.4 64-bit",
   "language": "python",
   "name": "python3"
  },
  "language_info": {
   "codemirror_mode": {
    "name": "ipython",
    "version": 3
   },
   "file_extension": ".py",
   "mimetype": "text/x-python",
   "name": "python",
   "nbconvert_exporter": "python",
   "pygments_lexer": "ipython3",
   "version": "3.10.4"
  },
  "orig_nbformat": 4,
  "vscode": {
   "interpreter": {
    "hash": "311724412226088b683ffffa8f56bd226d9eb83eedc73f5fb48200bda608b17b"
   }
  }
 },
 "nbformat": 4,
 "nbformat_minor": 2
}
