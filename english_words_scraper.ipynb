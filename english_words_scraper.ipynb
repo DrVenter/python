{
 "cells": [
  {
   "cell_type": "code",
   "execution_count": 20,
   "metadata": {},
   "outputs": [],
   "source": [
    "import requests\n",
    "from bs4 import BeautifulSoup\n",
    "\n",
    "import numpy as np\n",
    "import pandas as pd"
   ]
  },
  {
   "cell_type": "code",
   "execution_count": 21,
   "metadata": {},
   "outputs": [
    {
     "name": "stdout",
     "output_type": "stream",
     "text": [
      "   Base Word            Guideword Level  Part of Speech              Topic  \\\n",
      "0     cattle                  NaN    B1             NaN            animals   \n",
      "1    clothes                  NaN    A1             NaN            clothes   \n",
      "2     albeit                  NaN    C2             NaN                NaN   \n",
      "3        and                 ALSO    A1             NaN      communication   \n",
      "4        and                AFTER    A1             NaN      communication   \n",
      "5    because                  NaN    A1             NaN      communication   \n",
      "6        but  DIFFERENT STATEMENT    A1             NaN      communication   \n",
      "7        and           AFTER VERB    A2             NaN      communication   \n",
      "8         as              BECAUSE    A2             NaN      communication   \n",
      "9   although                  BUT    B1             NaN      communication   \n",
      "10  although              DESPITE    B1             NaN      communication   \n",
      "11       and            EMPHASIZE    B1             NaN      communication   \n",
      "12     close                  NaN    B1             NaN  describing things   \n",
      "13        as                  JOB    A1             NaN               work   \n",
      "14       and              NUMBERS    A1             NaN                NaN   \n",
      "15        as                  USE    A2             NaN                NaN   \n",
      "16    before              EARLIER    A2             NaN                NaN   \n",
      "17     after                  NaN    B1             NaN                NaN   \n",
      "18        as   BEING OR APPEARING    B1             NaN                NaN   \n",
      "19        as                WHILE    B1             NaN                NaN   \n",
      "\n",
      "    Details  \n",
      "0   Details  \n",
      "1   Details  \n",
      "2   Details  \n",
      "3   Details  \n",
      "4   Details  \n",
      "5   Details  \n",
      "6   Details  \n",
      "7   Details  \n",
      "8   Details  \n",
      "9   Details  \n",
      "10  Details  \n",
      "11  Details  \n",
      "12  Details  \n",
      "13  Details  \n",
      "14  Details  \n",
      "15  Details  \n",
      "16  Details  \n",
      "17  Details  \n",
      "18  Details  \n",
      "19  Details  \n"
     ]
    }
   ],
   "source": [
    "def create_initial_dataframe(URL, name):\n",
    "    page = requests.get(URL) \n",
    "    soup = BeautifulSoup(page.content, \"html.parser\")\n",
    "    data = pd.read_html(page.text)\n",
    "    data = data[0]\n",
    "    \n",
    "    return data\n",
    "\n",
    "def create_subsequent_dataframe(initial_dataframe, start):\n",
    "    URL = \"https://www.englishprofile.org/wordlists/evp\" + \"?start=\" + str(start)\n",
    "    page = requests.get(URL) \n",
    "    soup = BeautifulSoup(page.content, \"html.parser\")\n",
    "    data = pd.read_html(page.text)\n",
    "\n",
    "    return data\n",
    "\n",
    "database_name = \"EnglishProfile[dot]org\"\n",
    "URL = \"https://www.englishprofile.org/wordlists/evp\"\n",
    "\n",
    "data = create_initial_dataframe(URL, database_name)\n",
    "data.to_csv(database_name+\".csv\", index=False)\n",
    "\n"
   ]
  }
 ],
 "metadata": {
  "kernelspec": {
   "display_name": "Python 3.10.4 64-bit",
   "language": "python",
   "name": "python3"
  },
  "language_info": {
   "codemirror_mode": {
    "name": "ipython",
    "version": 3
   },
   "file_extension": ".py",
   "mimetype": "text/x-python",
   "name": "python",
   "nbconvert_exporter": "python",
   "pygments_lexer": "ipython3",
   "version": "3.10.4"
  },
  "orig_nbformat": 4,
  "vscode": {
   "interpreter": {
    "hash": "311724412226088b683ffffa8f56bd226d9eb83eedc73f5fb48200bda608b17b"
   }
  }
 },
 "nbformat": 4,
 "nbformat_minor": 2
}
