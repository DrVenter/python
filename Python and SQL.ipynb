{
 "cells": [
  {
   "cell_type": "markdown",
   "metadata": {},
   "source": [
    "# Python and SQL"
   ]
  },
  {
   "cell_type": "code",
   "execution_count": 1,
   "metadata": {},
   "outputs": [],
   "source": [
    "import numpy as np\n",
    "import pandas as pd\n",
    "from sqlalchemy import create_engine\n",
    "\n",
    "import mysql.connector"
   ]
  },
  {
   "cell_type": "markdown",
   "metadata": {},
   "source": [
    "## .csv/DataFrame to MySQL Database"
   ]
  },
  {
   "cell_type": "markdown",
   "metadata": {},
   "source": [
    "def use_sqlalchemy_to_connect_to_database(database_name):\n",
    "\thost_name = \"LocalHost\"\n",
    "\tdatabase_name = database_name\n",
    "\tuser_name = \"root\"\n",
    "\tpassword = \"\" #insert password here\n",
    "\n",
    "\tsql_engine = create_engine(f\"mysql+pymysql://{user_name}:{password}@{host_name}/{database_name}\")\n",
    "\n",
    "\treturn sql_engine\n",
    "\n",
    "def convert_data_frame_to_mysql_database(dataframe, table_name):\n",
    "    table_name = \"tattoo_database\" #name of the table where the data will be inserted\n",
    "    dataframe.to_sql(table_name, use_sqlalchemy_to_connect_to_database(\"tattoo_database\"), index=False)\n",
    "\n",
    "database = pd.read_csv(\"tattoo_studios_database.csv\") #read csv to pandas dataframe\n",
    "convert_data_frame_to_mysql_database(database, \"tattoo_studios\")\n",
    "print(\"Database Conversion Successful!\")"
   ]
  },
  {
   "cell_type": "markdown",
   "metadata": {},
   "source": [
    "## Connect to MySQL"
   ]
  },
  {
   "cell_type": "code",
   "execution_count": 2,
   "metadata": {},
   "outputs": [
    {
     "name": "stdout",
     "output_type": "stream",
     "text": [
      "<mysql.connector.connection_cext.CMySQLConnection object at 0x000001CF28BAC880>\n"
     ]
    }
   ],
   "source": [
    "mysql_database = mysql.connector.connect(\n",
    "    host=\"LocalHost\", \n",
    "    user=\"root\",\n",
    "    password=\"Eternal1\", \n",
    "    database=\"tattoo_database\"\n",
    ")\n",
    "\n",
    "print(mysql_database)"
   ]
  }
 ],
 "metadata": {
  "kernelspec": {
   "display_name": "Python 3.10.4 64-bit",
   "language": "python",
   "name": "python3"
  },
  "language_info": {
   "codemirror_mode": {
    "name": "ipython",
    "version": 3
   },
   "file_extension": ".py",
   "mimetype": "text/x-python",
   "name": "python",
   "nbconvert_exporter": "python",
   "pygments_lexer": "ipython3",
   "version": "3.10.4"
  },
  "orig_nbformat": 4,
  "vscode": {
   "interpreter": {
    "hash": "311724412226088b683ffffa8f56bd226d9eb83eedc73f5fb48200bda608b17b"
   }
  }
 },
 "nbformat": 4,
 "nbformat_minor": 2
}
