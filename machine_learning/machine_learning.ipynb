{
 "cells": [
  {
   "cell_type": "markdown",
   "metadata": {},
   "source": [
    "# Machine Learning Tools"
   ]
  },
  {
   "cell_type": "code",
   "execution_count": 13,
   "metadata": {},
   "outputs": [],
   "source": [
    "import pandas as pd\n",
    "import numpy as np\n",
    "import matplotlib.pyplot as plt\n",
    "from scipy import stats"
   ]
  },
  {
   "cell_type": "markdown",
   "metadata": {},
   "source": [
    "## Regression"
   ]
  },
  {
   "cell_type": "markdown",
   "metadata": {},
   "source": [
    "### Linear Regression"
   ]
  },
  {
   "cell_type": "code",
   "execution_count": 25,
   "metadata": {},
   "outputs": [
    {
     "data": {
      "text/html": [
       "<div>\n",
       "<style scoped>\n",
       "    .dataframe tbody tr th:only-of-type {\n",
       "        vertical-align: middle;\n",
       "    }\n",
       "\n",
       "    .dataframe tbody tr th {\n",
       "        vertical-align: top;\n",
       "    }\n",
       "\n",
       "    .dataframe thead th {\n",
       "        text-align: right;\n",
       "    }\n",
       "</style>\n",
       "<table border=\"1\" class=\"dataframe\">\n",
       "  <thead>\n",
       "    <tr style=\"text-align: right;\">\n",
       "      <th></th>\n",
       "      <th>Unnamed: 0</th>\n",
       "      <th>ID</th>\n",
       "      <th>Link</th>\n",
       "      <th>Title</th>\n",
       "      <th>Location</th>\n",
       "      <th>Excerpt</th>\n",
       "      <th>Address</th>\n",
       "      <th>Size (Meters Squared)</th>\n",
       "      <th>Price (ZAR)</th>\n",
       "      <th>Bedrooms</th>\n",
       "      <th>Bathrooms</th>\n",
       "      <th>Parking Spaces</th>\n",
       "      <th>Estate Agency</th>\n",
       "      <th>Price per Size (ZAR/Meter Squared)</th>\n",
       "    </tr>\n",
       "  </thead>\n",
       "  <tbody>\n",
       "    <tr>\n",
       "      <th>0</th>\n",
       "      <td>47</td>\n",
       "      <td>111441609</td>\n",
       "      <td>https://www.property24.com/for-sale/green-poin...</td>\n",
       "      <td>Apartment</td>\n",
       "      <td>Green Point</td>\n",
       "      <td>Spacious apartment offering it all!Opportunity...</td>\n",
       "      <td>221 Main Road</td>\n",
       "      <td>141.0</td>\n",
       "      <td>5200000</td>\n",
       "      <td>3.0</td>\n",
       "      <td>3.0</td>\n",
       "      <td>2.0</td>\n",
       "      <td>Seeff Sea Point - Sales</td>\n",
       "      <td>36879.432624</td>\n",
       "    </tr>\n",
       "    <tr>\n",
       "      <th>1</th>\n",
       "      <td>80</td>\n",
       "      <td>111425198</td>\n",
       "      <td>https://www.property24.com/for-sale/green-poin...</td>\n",
       "      <td>Apartment</td>\n",
       "      <td>Green Point</td>\n",
       "      <td>Exclusive Joint MandateBrand new unfurnished s...</td>\n",
       "      <td>NaN</td>\n",
       "      <td>74.0</td>\n",
       "      <td>3665000</td>\n",
       "      <td>1.0</td>\n",
       "      <td>1.0</td>\n",
       "      <td>1.0</td>\n",
       "      <td>Rawson Properties Atlantic</td>\n",
       "      <td>49527.027027</td>\n",
       "    </tr>\n",
       "    <tr>\n",
       "      <th>2</th>\n",
       "      <td>105</td>\n",
       "      <td>111405474</td>\n",
       "      <td>https://www.property24.com/for-sale/green-poin...</td>\n",
       "      <td>Apartment</td>\n",
       "      <td>Green Point</td>\n",
       "      <td>A unique offering: central studio apartment wi...</td>\n",
       "      <td>8 York Road</td>\n",
       "      <td>44.0</td>\n",
       "      <td>1495000</td>\n",
       "      <td>NaN</td>\n",
       "      <td>1.0</td>\n",
       "      <td>1.0</td>\n",
       "      <td>Vintroux International Real Estate Specialists</td>\n",
       "      <td>33977.272727</td>\n",
       "    </tr>\n",
       "    <tr>\n",
       "      <th>3</th>\n",
       "      <td>245</td>\n",
       "      <td>111409268</td>\n",
       "      <td>https://www.property24.com/for-sale/green-poin...</td>\n",
       "      <td>Apartment</td>\n",
       "      <td>Green Point</td>\n",
       "      <td>Exclusive MarketingA truly unmissable opportun...</td>\n",
       "      <td>5 Wessels Road</td>\n",
       "      <td>82.0</td>\n",
       "      <td>2499000</td>\n",
       "      <td>2.0</td>\n",
       "      <td>1.5</td>\n",
       "      <td>1.0</td>\n",
       "      <td>Quay 1 International Realty</td>\n",
       "      <td>30475.609756</td>\n",
       "    </tr>\n",
       "    <tr>\n",
       "      <th>4</th>\n",
       "      <td>338</td>\n",
       "      <td>111316658</td>\n",
       "      <td>https://www.property24.com/for-sale/green-poin...</td>\n",
       "      <td>Apartment</td>\n",
       "      <td>Green Point</td>\n",
       "      <td>2 Bedroomed, 2 bathroomed apartment. Open plan...</td>\n",
       "      <td>169 Main Road</td>\n",
       "      <td>87.0</td>\n",
       "      <td>5485000</td>\n",
       "      <td>2.0</td>\n",
       "      <td>2.0</td>\n",
       "      <td>2.0</td>\n",
       "      <td>Pam Golding Properties - Atlantic Seaboard</td>\n",
       "      <td>63045.977011</td>\n",
       "    </tr>\n",
       "  </tbody>\n",
       "</table>\n",
       "</div>"
      ],
      "text/plain": [
       "   Unnamed: 0         ID                                               Link  \\\n",
       "0          47  111441609  https://www.property24.com/for-sale/green-poin...   \n",
       "1          80  111425198  https://www.property24.com/for-sale/green-poin...   \n",
       "2         105  111405474  https://www.property24.com/for-sale/green-poin...   \n",
       "3         245  111409268  https://www.property24.com/for-sale/green-poin...   \n",
       "4         338  111316658  https://www.property24.com/for-sale/green-poin...   \n",
       "\n",
       "       Title     Location                                            Excerpt  \\\n",
       "0  Apartment  Green Point  Spacious apartment offering it all!Opportunity...   \n",
       "1  Apartment  Green Point  Exclusive Joint MandateBrand new unfurnished s...   \n",
       "2  Apartment  Green Point  A unique offering: central studio apartment wi...   \n",
       "3  Apartment  Green Point  Exclusive MarketingA truly unmissable opportun...   \n",
       "4  Apartment  Green Point  2 Bedroomed, 2 bathroomed apartment. Open plan...   \n",
       "\n",
       "          Address  Size (Meters Squared)  Price (ZAR)  Bedrooms  Bathrooms  \\\n",
       "0   221 Main Road                  141.0      5200000       3.0        3.0   \n",
       "1             NaN                   74.0      3665000       1.0        1.0   \n",
       "2     8 York Road                   44.0      1495000       NaN        1.0   \n",
       "3  5 Wessels Road                   82.0      2499000       2.0        1.5   \n",
       "4   169 Main Road                   87.0      5485000       2.0        2.0   \n",
       "\n",
       "   Parking Spaces                                   Estate Agency  \\\n",
       "0             2.0                         Seeff Sea Point - Sales   \n",
       "1             1.0                      Rawson Properties Atlantic   \n",
       "2             1.0  Vintroux International Real Estate Specialists   \n",
       "3             1.0                     Quay 1 International Realty   \n",
       "4             2.0      Pam Golding Properties - Atlantic Seaboard   \n",
       "\n",
       "   Price per Size (ZAR/Meter Squared)  \n",
       "0                        36879.432624  \n",
       "1                        49527.027027  \n",
       "2                        33977.272727  \n",
       "3                        30475.609756  \n",
       "4                        63045.977011  "
      ]
     },
     "execution_count": 25,
     "metadata": {},
     "output_type": "execute_result"
    }
   ],
   "source": [
    "data = pd.read_csv(\"property_cape_town(green_point)_linear_regression_example_dataset.csv\")\n",
    "data.head()"
   ]
  },
  {
   "cell_type": "code",
   "execution_count": 15,
   "metadata": {},
   "outputs": [
    {
     "data": {
      "image/png": "[encoded data removed]",
      "text/plain": [
       "<Figure size 432x288 with 1 Axes>"
      ]
     },
     "metadata": {
      "needs_background": "light"
     },
     "output_type": "display_data"
    },
    {
     "data": {
      "text/html": [
       "<div>\n",
       "<style scoped>\n",
       "    .dataframe tbody tr th:only-of-type {\n",
       "        vertical-align: middle;\n",
       "    }\n",
       "\n",
       "    .dataframe tbody tr th {\n",
       "        vertical-align: top;\n",
       "    }\n",
       "\n",
       "    .dataframe thead th {\n",
       "        text-align: right;\n",
       "    }\n",
       "</style>\n",
       "<table border=\"1\" class=\"dataframe\">\n",
       "  <thead>\n",
       "    <tr style=\"text-align: right;\">\n",
       "      <th></th>\n",
       "      <th>Size (Meters Squared)</th>\n",
       "      <th>Price (ZAR)</th>\n",
       "    </tr>\n",
       "  </thead>\n",
       "  <tbody>\n",
       "    <tr>\n",
       "      <th>Size (Meters Squared)</th>\n",
       "      <td>1.000000</td>\n",
       "      <td>0.837736</td>\n",
       "    </tr>\n",
       "    <tr>\n",
       "      <th>Price (ZAR)</th>\n",
       "      <td>0.837736</td>\n",
       "      <td>1.000000</td>\n",
       "    </tr>\n",
       "  </tbody>\n",
       "</table>\n",
       "</div>"
      ],
      "text/plain": [
       "                       Size (Meters Squared)  Price (ZAR)\n",
       "Size (Meters Squared)               1.000000     0.837736\n",
       "Price (ZAR)                         0.837736     1.000000"
      ]
     },
     "execution_count": 15,
     "metadata": {},
     "output_type": "execute_result"
    }
   ],
   "source": [
    "size_price = data[[\"Size (Meters Squared)\", \"Price (ZAR)\"]].dropna()\n",
    "size = size_price[\"Size (Meters Squared)\"]\n",
    "price = size_price[\"Price (ZAR)\"]\n",
    "\n",
    "plt.scatter(size, price)\n",
    "plt.show()\n",
    "\n",
    "size_price.corr()\n"
   ]
  },
  {
   "cell_type": "code",
   "execution_count": 27,
   "metadata": {},
   "outputs": [
    {
     "data": {
      "image/png": "[encoded data removed]",
      "text/plain": [
       "<Figure size 432x288 with 1 Axes>"
      ]
     },
     "metadata": {
      "needs_background": "light"
     },
     "output_type": "display_data"
    },
    {
     "name": "stdout",
     "output_type": "stream",
     "text": [
      "Slope: 45546.04205905685\n",
      "y-Intercept:  -217993.4732026672\n",
      "R-Squared Value:  0.8377357013508708\n"
     ]
    }
   ],
   "source": [
    "slope, intercept, r, p, std_err = stats.linregress(size, price) #size is x_axis and price is y_axis #function from scipy.stats.linregress\n",
    "\n",
    "def linear_regression(size): #input x_axis\n",
    "    return slope * size + intercept #finds y_value\n",
    "\n",
    "linear_model = list(map(linear_regression, size))\n",
    "\n",
    "plt.scatter(size, price)\n",
    "plt.plot(size, linear_model)\n",
    "plt.show()\n",
    "\n",
    "print(\"Slope:\", slope)\n",
    "print(\"y-Intercept: \", intercept)\n",
    "print(\"R-Squared Value: \", r)\n",
    "\n",
    "\"\"\"\n",
    "Note: distance form the line to a data point is the \"error\" between the line and the y-value. also known as Residual (u)\n",
    "\"\"\""
   ]
  },
  {
   "cell_type": "markdown",
   "metadata": {},
   "source": [
    "## Cluster Analysis "
   ]
  },
  {
   "cell_type": "markdown",
   "metadata": {},
   "source": [
    "### KMeans"
   ]
  },
  {
   "cell_type": "markdown",
   "metadata": {},
   "source": [
    "#import necessary library\n",
    "from sklearn.cluster import KMeans"
   ]
  },
  {
   "cell_type": "markdown",
   "metadata": {},
   "source": [
    "#create/load dataset\n",
    "data = np.array([(4, 21), (5, 19), (10, 24), (4, 17), (3, 16), (11, 25), (14, 24), (6, 22), (10, 21), (12, 21)]) #mock data"
   ]
  },
  {
   "cell_type": "markdown",
   "metadata": {},
   "source": [
    "#Kmeans cluster analysis\n",
    "number_of_clusters = 3 #assign number of clusters\n",
    "kmeans = KMeans(n_clusters=number_of_clusters).fit(data)\n",
    "center_of_clusters = kmeans.cluster_centers_\n",
    "label_of_each_point = kmeans.labels_\n",
    "\n",
    "print(label_of_each_point)"
   ]
  },
  {
   "cell_type": "markdown",
   "metadata": {},
   "source": [
    "data = pd.DataFrame(data, columns=[\"X-Label\", \"Y-Label\"]) #convert to data frame if not in one already\n",
    "data[\"Cluster Labels\"] = label_of_each_point #add cluster labels to dataframe\n",
    "\n",
    "print(data)"
   ]
  },
  {
   "cell_type": "markdown",
   "metadata": {},
   "source": [
    "#plot graph\n",
    "fig, ax = plt.subplots()\n",
    "ax.set(xlabel=\"X-Label\", ylabel=\"Y-Label\")\n",
    "x_axis = data[\"X-Label\"]\n",
    "y_axis = data[\"Y-Label\"]\n",
    "\n",
    "plt.scatter(x_axis, y_axis, c=data[\"Cluster Labels\"], cmap=\"viridis\")"
   ]
  },
  {
   "cell_type": "markdown",
   "metadata": {},
   "source": [
    "### Determine Number of Clusters (Elbow Curve)"
   ]
  },
  {
   "cell_type": "markdown",
   "metadata": {},
   "source": [
    "x_axis = data[[\"X-Label\"]] #definitely need the [[]]\n",
    "y_axis = data[[\"Y-Label\"]]\n",
    "\n",
    "k_clusters = range(1,10) #choose a range of clusters\n",
    "kmeans = [KMeans(n_clusters=i) for i in k_clusters]\n",
    "score = [kmeans[i].fit(y_axis).score(y_axis) for i in range(len(kmeans))]\n",
    "\n",
    "fig, ax = plt.subplots()\n",
    "ax.set(xlabel=\"Number of Clusters\", ylabel=\"Score\", title=\"Elbow Curve\")\n",
    "ax.plot(k_clusters, score)"
   ]
  }
 ],
 "metadata": {
  "kernelspec": {
   "display_name": "Python 3.10.4 64-bit",
   "language": "python",
   "name": "python3"
  },
  "language_info": {
   "codemirror_mode": {
    "name": "ipython",
    "version": 3
   },
   "file_extension": ".py",
   "mimetype": "text/x-python",
   "name": "python",
   "nbconvert_exporter": "python",
   "pygments_lexer": "ipython3",
   "version": "3.10.4"
  },
  "orig_nbformat": 4,
  "vscode": {
   "interpreter": {
    "hash": "311724412226088b683ffffa8f56bd226d9eb83eedc73f5fb48200bda608b17b"
   }
  }
 },
 "nbformat": 4,
 "nbformat_minor": 2
}
